{
 "cells": [
  {
   "cell_type": "code",
   "execution_count": 19,
   "id": "e8691c8a",
   "metadata": {},
   "outputs": [],
   "source": [
    "import tensorflow as tf\n",
    "from tensorflow.keras import layers\n",
    "import os\n",
    "import numpy as np\n",
    "from sklearn.preprocessing import LabelEncoder"
   ]
  },
  {
   "cell_type": "code",
   "execution_count": 20,
   "id": "7b3895e7",
   "metadata": {},
   "outputs": [],
   "source": [
    "# Data Collection Functions (keep yours)\n",
    "def collect_image_path(root_dir):\n",
    "    data = []\n",
    "    classes = []    \n",
    "    for folder_classes in os.listdir(root_dir):\n",
    "        class_path = os.path.join(root_dir,folder_classes)\n",
    "        classes.append(folder_classes)        \n",
    "        if os.path.isdir(class_path):\n",
    "            for split in ['Train' , 'Test']:\n",
    "                split_path = os.path.join(class_path,split)\n",
    "                if os.path.isdir(split_path):\n",
    "                    for image_path in os.listdir(split_path):\n",
    "                        image_path = os.path.join(split_path , image_path)\n",
    "                        data.append({\n",
    "                            'path':image_path,\n",
    "                            'target': folder_classes,\n",
    "                            'split':split\n",
    "                        })\n",
    "    return data, classes"
   ]
  },
  {
   "cell_type": "code",
   "execution_count": 21,
   "id": "9656f6a4",
   "metadata": {},
   "outputs": [],
   "source": [
    "# Dataset Configuration\n",
    "root_dir = 'Bone Break Classification/'\n",
    "data, classes = collect_image_path(root_dir)\n",
    "batch_size = 32\n",
    "IMG_SIZE = (224, 224)\n",
    "\n",
    "# Split dataset\n",
    "train_data = [entry for entry in data if entry['split'] == 'Train']\n",
    "test_data = [entry for entry in data if entry['split'] == 'Test']\n",
    "\n",
    "# Prepare paths and labels\n",
    "train_paths = [entry['path'] for entry in train_data]\n",
    "train_labels = [entry['target'] for entry in train_data]\n",
    "test_paths = [entry['path'] for entry in test_data]\n",
    "test_labels = [entry['target'] for entry in test_data]\n",
    "\n",
    "# Encode labels\n",
    "le = LabelEncoder()\n",
    "train_labels = le.fit_transform(train_labels)\n",
    "test_labels = le.transform(test_labels)"
   ]
  },
  {
   "cell_type": "code",
   "execution_count": 22,
   "id": "59b4eee7",
   "metadata": {},
   "outputs": [],
   "source": [
    "# Dataset Configuration\n",
    "root_dir = 'Bone Break Classification/'\n",
    "data, classes = collect_image_path(root_dir)\n",
    "batch_size = 32\n",
    "IMG_SIZE = (224, 224)\n",
    "\n",
    "# Split dataset\n",
    "train_data = [entry for entry in data if entry['split'] == 'Train']\n",
    "test_data = [entry for entry in data if entry['split'] == 'Test']\n",
    "\n",
    "# Prepare paths and labels\n",
    "train_paths = [entry['path'] for entry in train_data]\n",
    "train_labels = [entry['target'] for entry in train_data]\n",
    "test_paths = [entry['path'] for entry in test_data]\n",
    "test_labels = [entry['target'] for entry in test_data]\n",
    "\n",
    "# Encode labels\n",
    "le = LabelEncoder()\n",
    "train_labels = le.fit_transform(train_labels)\n",
    "test_labels = le.transform(test_labels)"
   ]
  },
  {
   "cell_type": "code",
   "execution_count": 23,
   "id": "aaa078fd",
   "metadata": {},
   "outputs": [],
   "source": [
    "# TF Dataset Pipeline\n",
    "def process_path(image_path, label):\n",
    "    img = tf.io.read_file(image_path)\n",
    "    img = tf.image.decode_png(img, channels=1)  # Read as grayscale\n",
    "    img = tf.image.grayscale_to_rgb(img)  # Convert to 3 channels\n",
    "    img = tf.image.resize(img, IMG_SIZE)\n",
    "    return img, label"
   ]
  },
  {
   "cell_type": "code",
   "execution_count": 24,
   "id": "fe37af61",
   "metadata": {},
   "outputs": [],
   "source": [
    "train_dataset = tf.data.Dataset.from_tensor_slices((train_paths, train_labels))\n",
    "train_dataset = train_dataset.map(process_path, num_parallel_calls=tf.data.AUTOTUNE)\n",
    "train_dataset = train_dataset.shuffle(1000).batch(batch_size).prefetch(tf.data.AUTOTUNE)\n",
    "\n",
    "test_dataset = tf.data.Dataset.from_tensor_slices((test_paths, test_labels))\n",
    "test_dataset = test_dataset.map(process_path, num_parallel_calls=tf.data.AUTOTUNE)\n",
    "test_dataset = test_dataset.batch(batch_size).prefetch(tf.data.AUTOTUNE)\n",
    "\n",
    "# Data Augmentation\n",
    "data_augmentation = tf.keras.Sequential([\n",
    "    layers.RandomFlip(\"horizontal_and_vertical\"),\n",
    "    layers.RandomRotation(0.2),\n",
    "    layers.RandomZoom(0.2),\n",
    "    layers.RandomContrast(0.1)\n",
    "])"
   ]
  },
  {
   "cell_type": "code",
   "execution_count": 25,
   "id": "0026f82d",
   "metadata": {},
   "outputs": [],
   "source": [
    "# Data Augmentation\n",
    "data_augmentation = tf.keras.Sequential([\n",
    "    layers.RandomFlip(\"horizontal_and_vertical\"),\n",
    "    layers.RandomRotation(0.2),\n",
    "    layers.RandomZoom(0.2),\n",
    "    layers.RandomContrast(0.1)\n",
    "])"
   ]
  },
  {
   "cell_type": "code",
   "execution_count": 26,
   "id": "519cd2a8",
   "metadata": {},
   "outputs": [],
   "source": [
    "# Transfer Learning Model with Fixed Preprocessing\n",
    "base_model = tf.keras.applications.MobileNetV2(\n",
    "    input_shape=(224, 224, 3),\n",
    "    include_top=False,\n",
    "    weights='imagenet'\n",
    ")\n",
    "base_model.trainable = False  # Freeze base model\n",
    "\n",
    "# Corrected Model Architecture\n",
    "model = tf.keras.Sequential([\n",
    "    layers.Input(shape=(224, 224, 3)),\n",
    "    data_augmentation,\n",
    "    layers.Lambda(tf.keras.applications.mobilenet_v2.preprocess_input),  # Wrap in Lambda layer\n",
    "    base_model,\n",
    "    layers.GlobalAveragePooling2D(),\n",
    "    layers.Dropout(0.5),\n",
    "    layers.Dense(256, activation='relu'),\n",
    "    layers.Dense(len(classes), activation='softmax')\n",
    "])\n"
   ]
  },
  {
   "cell_type": "code",
   "execution_count": 27,
   "id": "9983c529",
   "metadata": {},
   "outputs": [
    {
     "name": "stdout",
     "output_type": "stream",
     "text": [
      "Epoch 1/15\n",
      "\u001b[1m31/31\u001b[0m \u001b[32m━━━━━━━━━━━━━━━━━━━━\u001b[0m\u001b[37m\u001b[0m \u001b[1m13s\u001b[0m 264ms/step - accuracy: 0.1295 - loss: 2.7699 - val_accuracy: 0.2143 - val_loss: 2.1976\n",
      "Epoch 2/15\n",
      "\u001b[1m31/31\u001b[0m \u001b[32m━━━━━━━━━━━━━━━━━━━━\u001b[0m\u001b[37m\u001b[0m \u001b[1m8s\u001b[0m 231ms/step - accuracy: 0.2322 - loss: 2.1832 - val_accuracy: 0.1786 - val_loss: 2.1662\n",
      "Epoch 3/15\n",
      "\u001b[1m31/31\u001b[0m \u001b[32m━━━━━━━━━━━━━━━━━━━━\u001b[0m\u001b[37m\u001b[0m \u001b[1m8s\u001b[0m 233ms/step - accuracy: 0.2601 - loss: 2.0825 - val_accuracy: 0.2357 - val_loss: 2.1408\n",
      "Epoch 4/15\n",
      "\u001b[1m31/31\u001b[0m \u001b[32m━━━━━━━━━━━━━━━━━━━━\u001b[0m\u001b[37m\u001b[0m \u001b[1m7s\u001b[0m 230ms/step - accuracy: 0.2815 - loss: 2.0682 - val_accuracy: 0.2286 - val_loss: 2.1418\n",
      "Epoch 5/15\n",
      "\u001b[1m31/31\u001b[0m \u001b[32m━━━━━━━━━━━━━━━━━━━━\u001b[0m\u001b[37m\u001b[0m \u001b[1m7s\u001b[0m 225ms/step - accuracy: 0.3082 - loss: 2.0251 - val_accuracy: 0.2143 - val_loss: 2.1662\n",
      "Epoch 6/15\n",
      "\u001b[1m31/31\u001b[0m \u001b[32m━━━━━━━━━━━━━━━━━━━━\u001b[0m\u001b[37m\u001b[0m \u001b[1m7s\u001b[0m 224ms/step - accuracy: 0.3241 - loss: 1.9454 - val_accuracy: 0.2143 - val_loss: 2.1714\n",
      "Epoch 7/15\n",
      "\u001b[1m31/31\u001b[0m \u001b[32m━━━━━━━━━━━━━━━━━━━━\u001b[0m\u001b[37m\u001b[0m \u001b[1m7s\u001b[0m 223ms/step - accuracy: 0.3167 - loss: 1.9912 - val_accuracy: 0.2286 - val_loss: 2.1256\n",
      "Epoch 8/15\n",
      "\u001b[1m31/31\u001b[0m \u001b[32m━━━━━━━━━━━━━━━━━━━━\u001b[0m\u001b[37m\u001b[0m \u001b[1m7s\u001b[0m 227ms/step - accuracy: 0.3345 - loss: 1.8867 - val_accuracy: 0.2429 - val_loss: 2.1007\n",
      "Epoch 9/15\n",
      "\u001b[1m31/31\u001b[0m \u001b[32m━━━━━━━━━━━━━━━━━━━━\u001b[0m\u001b[37m\u001b[0m \u001b[1m7s\u001b[0m 224ms/step - accuracy: 0.3044 - loss: 1.9446 - val_accuracy: 0.2429 - val_loss: 2.1308\n",
      "Epoch 10/15\n",
      "\u001b[1m31/31\u001b[0m \u001b[32m━━━━━━━━━━━━━━━━━━━━\u001b[0m\u001b[37m\u001b[0m \u001b[1m7s\u001b[0m 226ms/step - accuracy: 0.3635 - loss: 1.8549 - val_accuracy: 0.2357 - val_loss: 2.1199\n",
      "Epoch 11/15\n",
      "\u001b[1m31/31\u001b[0m \u001b[32m━━━━━━━━━━━━━━━━━━━━\u001b[0m\u001b[37m\u001b[0m \u001b[1m7s\u001b[0m 224ms/step - accuracy: 0.3444 - loss: 1.8455 - val_accuracy: 0.2143 - val_loss: 2.1308\n",
      "Epoch 12/15\n",
      "\u001b[1m31/31\u001b[0m \u001b[32m━━━━━━━━━━━━━━━━━━━━\u001b[0m\u001b[37m\u001b[0m \u001b[1m7s\u001b[0m 224ms/step - accuracy: 0.3445 - loss: 1.7964 - val_accuracy: 0.2357 - val_loss: 2.1953\n",
      "Epoch 13/15\n",
      "\u001b[1m31/31\u001b[0m \u001b[32m━━━━━━━━━━━━━━━━━━━━\u001b[0m\u001b[37m\u001b[0m \u001b[1m7s\u001b[0m 226ms/step - accuracy: 0.3756 - loss: 1.7985 - val_accuracy: 0.2500 - val_loss: 2.1612\n",
      "Epoch 14/15\n",
      "\u001b[1m31/31\u001b[0m \u001b[32m━━━━━━━━━━━━━━━━━━━━\u001b[0m\u001b[37m\u001b[0m \u001b[1m7s\u001b[0m 224ms/step - accuracy: 0.3831 - loss: 1.7937 - val_accuracy: 0.2214 - val_loss: 2.1712\n",
      "Epoch 15/15\n",
      "\u001b[1m31/31\u001b[0m \u001b[32m━━━━━━━━━━━━━━━━━━━━\u001b[0m\u001b[37m\u001b[0m \u001b[1m7s\u001b[0m 222ms/step - accuracy: 0.3966 - loss: 1.7095 - val_accuracy: 0.2643 - val_loss: 2.0947\n"
     ]
    }
   ],
   "source": [
    "model.compile(\n",
    "    optimizer=tf.keras.optimizers.Adam(learning_rate=1e-3),\n",
    "    loss='sparse_categorical_crossentropy',\n",
    "    metrics=['accuracy']\n",
    ")\n",
    "\n",
    "# Train the model\n",
    "epochs = 15\n",
    "history = model.fit(\n",
    "    train_dataset,\n",
    "    validation_data=test_dataset,\n",
    "    epochs=epochs\n",
    ")"
   ]
  }
 ],
 "metadata": {
  "kernelspec": {
   "display_name": "Python 3 (ipykernel)",
   "language": "python",
   "name": "python3"
  },
  "language_info": {
   "codemirror_mode": {
    "name": "ipython",
    "version": 3
   },
   "file_extension": ".py",
   "mimetype": "text/x-python",
   "name": "python",
   "nbconvert_exporter": "python",
   "pygments_lexer": "ipython3",
   "version": "3.11.5"
  }
 },
 "nbformat": 4,
 "nbformat_minor": 5
}
